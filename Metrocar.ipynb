{
 "cells": [
  {
   "cell_type": "markdown",
   "id": "9144a732-1f55-4204-92e6-4e618ad1b64b",
   "metadata": {},
   "source": [
    "# Funnel Analysis Project\n",
    "\n",
    "<img src = metrocar_app.png width=\"200\" height=\"200\">"
   ]
  },
  {
   "cell_type": "code",
   "execution_count": 2,
   "id": "2872cd95-1165-4c80-a663-fbfdb7c8bd14",
   "metadata": {},
   "outputs": [],
   "source": [
    "import pandas as pd"
   ]
  },
  {
   "cell_type": "code",
   "execution_count": 3,
   "id": "1963332b-31bd-46c7-b496-d74fd865cfa2",
   "metadata": {},
   "outputs": [
    {
     "name": "stderr",
     "output_type": "stream",
     "text": [
      "/var/folders/rw/pjr9j51j1zb95hjkpq9ktlsm0000gn/T/ipykernel_32702/1710806289.py:3: DtypeWarning: Columns (4,7,8,9) have mixed types. Specify dtype option on import or set low_memory=False.\n",
      "  df2 = pd.read_csv('ride_requests.csv')\n"
     ]
    }
   ],
   "source": [
    "df = pd.read_csv('app_downloads.csv')\n",
    "df1 = pd.read_csv('signups.csv')\n",
    "df2 = pd.read_csv('ride_requests.csv')\n",
    "df3 = pd.read_csv('transactions.csv')\n",
    "df4 = pd.read_csv('reviews.csv')\n"
   ]
  },
  {
   "cell_type": "code",
   "execution_count": 10,
   "id": "978e5a9d-1377-40b4-a178-d5d21b36c09c",
   "metadata": {},
   "outputs": [],
   "source": [
    "\n",
    "metrocar = df.merge(df1, how='left', left_on='app_download_key', right_on='session_id')\n",
    "metrocar = metrocar.merge(df2, how='left', on='user_id')\n",
    "# # metrocar = metrocar.merge(df3, how='left', on='ride_id')\n",
    "# # metrocar = metrocar.merge(df4, how='left', on=['ride_id', 'driver_id', 'user_id'])\n",
    "# # metrocar.drop_duplicates(inplace=True)\n",
    "# metrocar.info()"
   ]
  },
  {
   "cell_type": "code",
   "execution_count": 5,
   "id": "2858fe80-c9cd-46bf-9696-8dd24b541262",
   "metadata": {},
   "outputs": [
    {
     "ename": "NameError",
     "evalue": "name 'metrocar' is not defined",
     "output_type": "error",
     "traceback": [
      "\u001b[0;31m---------------------------------------------------------------------------\u001b[0m",
      "\u001b[0;31mNameError\u001b[0m                                 Traceback (most recent call last)",
      "Input \u001b[0;32mIn [5]\u001b[0m, in \u001b[0;36m<cell line: 1>\u001b[0;34m()\u001b[0m\n\u001b[0;32m----> 1\u001b[0m \u001b[43mmetrocar\u001b[49m[\u001b[38;5;124m'\u001b[39m\u001b[38;5;124mapp_download_key\u001b[39m\u001b[38;5;124m'\u001b[39m]\u001b[38;5;241m.\u001b[39mcount()\n",
      "\u001b[0;31mNameError\u001b[0m: name 'metrocar' is not defined"
     ]
    }
   ],
   "source": []
  },
  {
   "cell_type": "code",
   "execution_count": null,
   "id": "ece3c5e5-dafd-4bd9-9243-cb9f4e5165bd",
   "metadata": {},
   "outputs": [],
   "source": [
    "data = pd.read_csv('data_funnel.csv')\n",
    "data.info()"
   ]
  },
  {
   "cell_type": "code",
   "execution_count": null,
   "id": "203f19bc-d68b-412c-8af7-ff3ebc4edb53",
   "metadata": {},
   "outputs": [],
   "source": [
    "data.groupby('platform')['number_user'].nunique()"
   ]
  },
  {
   "cell_type": "code",
   "execution_count": 6,
   "id": "548b8f03-2611-4895-a99b-6b65616119c5",
   "metadata": {},
   "outputs": [
    {
     "data": {
      "text/html": [
       "<div>\n",
       "<style scoped>\n",
       "    .dataframe tbody tr th:only-of-type {\n",
       "        vertical-align: middle;\n",
       "    }\n",
       "\n",
       "    .dataframe tbody tr th {\n",
       "        vertical-align: top;\n",
       "    }\n",
       "\n",
       "    .dataframe thead th {\n",
       "        text-align: right;\n",
       "    }\n",
       "</style>\n",
       "<table border=\"1\" class=\"dataframe\">\n",
       "  <thead>\n",
       "    <tr style=\"text-align: right;\">\n",
       "      <th></th>\n",
       "      <th>app_download_key</th>\n",
       "      <th>platform</th>\n",
       "      <th>download_ts</th>\n",
       "    </tr>\n",
       "  </thead>\n",
       "  <tbody>\n",
       "    <tr>\n",
       "      <th>0</th>\n",
       "      <td>06f49bcc6895f888eba41043f95348ba</td>\n",
       "      <td>android</td>\n",
       "      <td>2021-05-13 13:12:06</td>\n",
       "    </tr>\n",
       "    <tr>\n",
       "      <th>1</th>\n",
       "      <td>60d79d5ac63159a5dffc13e42d87e070</td>\n",
       "      <td>android</td>\n",
       "      <td>2021-01-17 17:40:24</td>\n",
       "    </tr>\n",
       "    <tr>\n",
       "      <th>2</th>\n",
       "      <td>a3e52e50d379c3da808c4d8864f0d996</td>\n",
       "      <td>android</td>\n",
       "      <td>2021-01-11 04:02:52</td>\n",
       "    </tr>\n",
       "    <tr>\n",
       "      <th>3</th>\n",
       "      <td>2f7551cdd9a0a658350394e51bc74de3</td>\n",
       "      <td>android</td>\n",
       "      <td>2021-07-22 21:00:34</td>\n",
       "    </tr>\n",
       "    <tr>\n",
       "      <th>4</th>\n",
       "      <td>81adc238826a8dce8a706c083abc095e</td>\n",
       "      <td>web</td>\n",
       "      <td>2021-04-24 01:43:54</td>\n",
       "    </tr>\n",
       "    <tr>\n",
       "      <th>...</th>\n",
       "      <td>...</td>\n",
       "      <td>...</td>\n",
       "      <td>...</td>\n",
       "    </tr>\n",
       "    <tr>\n",
       "      <th>23603</th>\n",
       "      <td>2c1cb16bcc24ba46f8f90ef16ae70c4f</td>\n",
       "      <td>ios</td>\n",
       "      <td>2021-11-15 05:26:25</td>\n",
       "    </tr>\n",
       "    <tr>\n",
       "      <th>23604</th>\n",
       "      <td>2ad17e668a2622de46395ae228843ad8</td>\n",
       "      <td>ios</td>\n",
       "      <td>2021-08-02 17:01:05</td>\n",
       "    </tr>\n",
       "    <tr>\n",
       "      <th>23605</th>\n",
       "      <td>9a590716fc8ef31a11da8234a582dfed</td>\n",
       "      <td>ios</td>\n",
       "      <td>2021-06-12 00:41:13</td>\n",
       "    </tr>\n",
       "    <tr>\n",
       "      <th>23606</th>\n",
       "      <td>7e422317ed36f5424ebf6d8b728dd84c</td>\n",
       "      <td>ios</td>\n",
       "      <td>2021-04-18 00:39:40</td>\n",
       "    </tr>\n",
       "    <tr>\n",
       "      <th>23607</th>\n",
       "      <td>c68c776cf294c432991f3115bb622318</td>\n",
       "      <td>ios</td>\n",
       "      <td>2021-06-24 02:52:06</td>\n",
       "    </tr>\n",
       "  </tbody>\n",
       "</table>\n",
       "<p>23608 rows × 3 columns</p>\n",
       "</div>"
      ],
      "text/plain": [
       "                       app_download_key platform          download_ts\n",
       "0      06f49bcc6895f888eba41043f95348ba  android  2021-05-13 13:12:06\n",
       "1      60d79d5ac63159a5dffc13e42d87e070  android  2021-01-17 17:40:24\n",
       "2      a3e52e50d379c3da808c4d8864f0d996  android  2021-01-11 04:02:52\n",
       "3      2f7551cdd9a0a658350394e51bc74de3  android  2021-07-22 21:00:34\n",
       "4      81adc238826a8dce8a706c083abc095e      web  2021-04-24 01:43:54\n",
       "...                                 ...      ...                  ...\n",
       "23603  2c1cb16bcc24ba46f8f90ef16ae70c4f      ios  2021-11-15 05:26:25\n",
       "23604  2ad17e668a2622de46395ae228843ad8      ios  2021-08-02 17:01:05\n",
       "23605  9a590716fc8ef31a11da8234a582dfed      ios  2021-06-12 00:41:13\n",
       "23606  7e422317ed36f5424ebf6d8b728dd84c      ios  2021-04-18 00:39:40\n",
       "23607  c68c776cf294c432991f3115bb622318      ios  2021-06-24 02:52:06\n",
       "\n",
       "[23608 rows x 3 columns]"
      ]
     },
     "execution_count": 6,
     "metadata": {},
     "output_type": "execute_result"
    }
   ],
   "source": [
    "df"
   ]
  },
  {
   "cell_type": "code",
   "execution_count": 17,
   "id": "094b51fa-e0f9-4efa-a09b-d142d664501e",
   "metadata": {},
   "outputs": [
    {
     "data": {
      "image/png": "[encoded data removed]",
      "text/plain": [
       "<Figure size 720x432 with 1 Axes>"
      ]
     },
     "metadata": {
      "needs_background": "light"
     },
     "output_type": "display_data"
    },
    {
     "data": {
      "text/plain": [
       "<Figure size 432x288 with 0 Axes>"
      ]
     },
     "metadata": {},
     "output_type": "display_data"
    }
   ],
   "source": [
    "import pandas as pd\n",
    "import matplotlib.pyplot as plt\n",
    "\n",
    "# Assuming you have a DataFrame named 'metrocar' that contains the ride request data\n",
    "# and the 'request_ts' column\n",
    "\n",
    "# Convert the 'request_ts' column to datetime format\n",
    "metrocar['request_ts'] = pd.to_datetime(metrocar['request_ts'])\n",
    "\n",
    "# Extract the hour of the day from the 'request_ts' column\n",
    "metrocar['hour'] = metrocar['request_ts'].dt.hour\n",
    "\n",
    "# Count the number of ride requests for each hour of the day\n",
    "ride_requests_by_hour = metrocar['hour'].value_counts().sort_index()\n",
    "\n",
    "# Plot the distribution of ride requests throughout the day\n",
    "fig, ax = plt.subplots(figsize=(10, 6))\n",
    "ride_requests_by_hour.plot(kind='bar', xlabel='Hour', ylabel='Number of Ride Requests', ax=ax)\n",
    "\n",
    "# Add appropriate labels, titles, and formatting to the plot\n",
    "\n",
    "# Display the plot\n",
    "plt.show()\n"
   ]
  },
  {
   "cell_type": "code",
   "execution_count": null,
   "id": "ae4a195d-18d8-4734-8e67-0637c2c0b147",
   "metadata": {},
   "outputs": [],
   "source": []
  }
 ],
 "metadata": {
  "kernelspec": {
   "display_name": "Python 3 (ipykernel)",
   "language": "python",
   "name": "python3"
  },
  "language_info": {
   "codemirror_mode": {
    "name": "ipython",
    "version": 3
   },
   "file_extension": ".py",
   "mimetype": "text/x-python",
   "name": "python",
   "nbconvert_exporter": "python",
   "pygments_lexer": "ipython3",
   "version": "3.9.12"
  }
 },
 "nbformat": 4,
 "nbformat_minor": 5
}
